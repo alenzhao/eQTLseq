{
 "cells": [
  {
   "cell_type": "code",
   "execution_count": null,
   "metadata": {
    "collapsed": false
   },
   "outputs": [],
   "source": [
    "import sys as _sys\n",
    "import warnings as _wrn\n",
    "import numpy as _nmp\n",
    "import numpy.random as _rnd\n",
    "import matplotlib.pyplot as _plt\n",
    "import pandas as _pnd\n",
    "\n",
    "%load_ext autoreload\n",
    "%autoreload 2\n",
    "%matplotlib inline\n",
    "\n",
    "_wrn.filterwarnings('always')\n",
    "_plt.style.use('ggplot')"
   ]
  },
  {
   "cell_type": "code",
   "execution_count": null,
   "metadata": {
    "collapsed": false
   },
   "outputs": [],
   "source": [
    "import eQTLseq as _assoc"
   ]
  },
  {
   "cell_type": "code",
   "execution_count": null,
   "metadata": {
    "collapsed": false
   },
   "outputs": [],
   "source": [
    "def fcn(fname):\n",
    "    counts_CEU = _pnd.read_table(fname, index_col=0).values\n",
    "    counts_CEU = counts_CEU[counts_CEU.sum(1)>0, :]  # remove zero-sum rows\n",
    "    fit = _assoc.fit_nbinom_model(counts_CEU)\n",
    "    print('{} genes did not converge'.format((~fit['converged']).sum()), file=_sys.stderr)\n",
    "    idxs = (fit['converged']) & (_nmp.log(fit['phi']) > -10)\n",
    "    pars = {'mu': fit['mu'][idxs], 'phi': fit['phi'][idxs]}\n",
    "    \n",
    "    return pars\n",
    "\n",
    "##\n",
    "pars = fcn('data/montpick_count_table_CEU.txt')\n",
    "\n",
    "_plt.figure(figsize=(15,10))\n",
    "_plt.subplot(2,2,1); _plt.hist(_nmp.log(pars['mu']), 100); _plt.xlabel('mean')\n",
    "_plt.subplot(2,2,2); _plt.hist(_nmp.log(pars['phi']), 100); _plt.xlabel('dispersion');\n",
    "_plt.subplot(2,2,3); _plt.loglog(pars['mu'], pars['mu'] + pars['mu']**2 / pars['phi'], '.', markersize=0.5); _plt.xlabel('mean'); _plt.ylabel('variance');"
   ]
  },
  {
   "cell_type": "code",
   "execution_count": null,
   "metadata": {
    "collapsed": false,
    "scrolled": false
   },
   "outputs": [],
   "source": [
    "def fcn(n_samples, n_markers, n_markers_causal, n_genes, n_genes_affected, MAF_range):\n",
    "    data_geno = _assoc.simulate_genotypes(n_samples, n_markers, MAF_range)\n",
    "    data_pheno = _assoc.simulate_eQTLs_nbinom(data_geno['G'], pars['mu'], pars['phi'], n_markers_causal=n_markers_causal, n_genes=n_genes, n_genes_affected=n_genes_affected, h2=0.5)\n",
    "\n",
    "    _plt.figure(figsize = (15,10));\n",
    "    _plt.subplot(3,2,1); _plt.hist(data_geno['MAF'], 100); _plt.xlabel('true MAF')\n",
    "    _plt.subplot(3,2,2); _plt.hist(data_geno['G'].sum(0) / (2 * n_samples), 100); _plt.xlabel('empirical MAF')\n",
    "    _plt.subplot(3,2,3); _plt.imshow(data_pheno['beta'], cmap=_plt.cm.gray); _plt.xlabel('markers'); _plt.ylabel('genes')\n",
    "#     _plt.subplot(3,2,4); _plt.loglog(data_pheno['mu'], data_pheno['mu'] + data_pheno['mu']**2 / data_pheno['phi'], '.'); _plt.xlabel('mean'); _plt.ylabel('variance');\n",
    "    _plt.subplot(3,2,5); _plt.hist(_nmp.log(data_pheno['Z'][0,:]+1), 100); _plt.xlabel('first sample');\n",
    "    _plt.subplot(3,2,6); _plt.hist(_nmp.log(data_pheno['Z'][1,:]+1), 100); _plt.xlabel('second sample');\n",
    "    _plt.tight_layout()\n",
    "    \n",
    "    return data_geno, data_pheno\n",
    "\n",
    "##\n",
    "data_geno, data_pheno = fcn(n_samples = 1000,\n",
    "                            n_markers = 100, n_markers_causal = 2,\n",
    "                            n_genes = 1000, n_genes_affected = 10,\n",
    "                            MAF_range = [0.05, 0.5])"
   ]
  },
  {
   "cell_type": "code",
   "execution_count": null,
   "metadata": {
    "collapsed": false
   },
   "outputs": [],
   "source": [
    "state, estim = _assoc.run(data_pheno['Z'], data_geno['G'], n_iters = 1000,\n",
    "                               mdl='Normal', alg='Gibbs', \n",
    "                               trans='Log', std=True,\n",
    "                               norm_factors=None, n_threads=8,\n",
    "                               YY=data_pheno['Y'], phi = data_pheno['phi'], mu = data_pheno['mu'], beta=data_pheno['beta'])    "
   ]
  },
  {
   "cell_type": "code",
   "execution_count": null,
   "metadata": {
    "collapsed": false,
    "scrolled": false
   },
   "outputs": [],
   "source": [
    "_plt.figure(figsize = (15,10));\n",
    "_plt.subplot(3,1,1); _plt.plot(state); _plt.xlabel('iteration'); _plt.ylabel('state')\n",
    "\n",
    "_plt.subplot(3,1,2); \n",
    "_plt.vlines(range(data_pheno['beta'].shape[1]), 0, _nmp.mean(data_pheno['beta'], 0)); \n",
    "_plt.axhline(linestyle='--', color='k');\n",
    "_plt.plot(_nmp.mean(estim['beta'], 0), 'r.'); _plt.xlabel('markers'); _plt.ylabel('effect size')\n",
    "\n",
    "_plt.subplot(3,1,3); \n",
    "_plt.vlines(range(data_pheno['beta'].shape[0]), 0, _nmp.mean(data_pheno['beta'], 1)); \n",
    "_plt.axhline(linestyle='--', color='k');\n",
    "_plt.plot(_nmp.mean(estim['beta'], 1), 'r.'); _plt.xlabel('genes'); _plt.ylabel('effect size')\n",
    "\n",
    "\n",
    "if 'mu' in estim:\n",
    "    _plt.figure(figsize = (15,10))\n",
    "    _plt.subplot(2,2,1)\n",
    "    _plt.plot(_nmp.log(data_pheno['mu']), _nmp.log(estim['mu']), '.'); _plt.ylim(_plt.xlim()); \n",
    "    _plt.plot(_plt.gca().get_xlim(),_plt.gca().get_ylim(), '--k'); \n",
    "    _plt.xlabel('true log(mu)'); _plt.ylabel('estimated log(mu)')\n",
    "\n",
    "if 'phi' in estim:\n",
    "    _plt.subplot(2,2,2)\n",
    "    _plt.plot(_nmp.log(data_pheno['phi']), _nmp.log(estim['phi']), '.'); _plt.ylim(_plt.xlim()); \n",
    "    _plt.plot(_plt.gca().get_xlim(),_plt.gca().get_ylim(), '--k'); \n",
    "    _plt.xlabel('true log(phi)'); _plt.ylabel('estimated log(phi)')\n",
    "\n",
    "\n",
    "if 'phi' in estim and 'mu' in estim:\n",
    "    _plt.subplot(2,2,3)\n",
    "    var = estim['mu'] + estim['phi'] * estim['mu']**2\n",
    "    _plt.plot(_nmp.log(estim['mu']), _nmp.log(var), '.');\n",
    "    _plt.xlabel('log(mu)'); _plt.ylabel('log(var)')\n",
    "\n",
    "    _plt.subplot(2,2,4)\n",
    "    var_true = data_pheno['mu'] + data_pheno['phi'] * data_pheno['mu']**2\n",
    "    var_estim = estim['mu'] + estim['phi'] * estim['mu']**2\n",
    "    _plt.plot(_nmp.log(var_true), _nmp.log(var_estim), '.'); _plt.ylim(_plt.xlim()); \n",
    "    _plt.plot(_plt.gca().get_xlim(),_plt.gca().get_ylim(), '--k'); \n",
    "    _plt.xlabel('true log(var)'); _plt.ylabel('estimated log(var)')\n",
    "\n",
    "_plt.tight_layout()\n",
    "metrics = _assoc.calculate_metrics(estim['beta'], data_pheno['beta'])\n",
    "[metrics[_] for _ in ['RSS', 'R2', 'MCC', 'TP', 'FP', 'TN', 'FN']]"
   ]
  },
  {
   "cell_type": "code",
   "execution_count": null,
   "metadata": {
    "collapsed": false
   },
   "outputs": [],
   "source": [
    "[4.5895732308611468, 0.5678359002275899, 0.83849753584840359, 15, 1, 99979, 5]\n",
    "[0.84925478038947544, 0.92003234087724328, 0.80619755276497262, 13, 0, 99980, 7]\n",
    "[3.478517964714781, 0.67245525691698016, 0.67078349379259405, 9, 0, 99980, 11]"
   ]
  },
  {
   "cell_type": "code",
   "execution_count": null,
   "metadata": {
    "collapsed": false
   },
   "outputs": [],
   "source": []
  },
  {
   "cell_type": "code",
   "execution_count": null,
   "metadata": {
    "collapsed": false
   },
   "outputs": [],
   "source": [
    "estim['beta'][estim['beta']!=0]"
   ]
  },
  {
   "cell_type": "code",
   "execution_count": null,
   "metadata": {
    "collapsed": false
   },
   "outputs": [],
   "source": [
    "round(1.1)"
   ]
  },
  {
   "cell_type": "code",
   "execution_count": null,
   "metadata": {
    "collapsed": true
   },
   "outputs": [],
   "source": []
  }
 ],
 "metadata": {
  "kernelspec": {
   "display_name": "Python 3",
   "language": "python",
   "name": "python3"
  },
  "language_info": {
   "codemirror_mode": {
    "name": "ipython",
    "version": 3
   },
   "file_extension": ".py",
   "mimetype": "text/x-python",
   "name": "python",
   "nbconvert_exporter": "python",
   "pygments_lexer": "ipython3",
   "version": "3.5.1"
  }
 },
 "nbformat": 4,
 "nbformat_minor": 0
}
