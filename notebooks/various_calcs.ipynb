{
 "cells": [
  {
   "cell_type": "code",
   "execution_count": 1,
   "metadata": {
    "collapsed": true
   },
   "outputs": [],
   "source": [
    "import pickle as _pkl\n",
    "import numpy as _nmp\n",
    "import pandas as _pnd\n",
    "import matplotlib.pyplot as _plt\n",
    "\n",
    "%matplotlib inline"
   ]
  },
  {
   "cell_type": "code",
   "execution_count": 2,
   "metadata": {
    "collapsed": true
   },
   "outputs": [],
   "source": [
    "mdls = {\n",
    "    'logit': 'Normal.logit',\n",
    "    'arcsin': 'Normal.arcsin',\n",
    "    'log': 'Normal.log',\n",
    "    'bcox': 'Normal.boxcox',\n",
    "    'blom': 'Normal.blom',\n",
    "    'voom': 'Normal.voom',\n",
    "    'vst': 'Normal.vst',\n",
    "    'bin': 'Binomial.none',\n",
    "    'nbin': 'NBinomial.none',\n",
    "    'pois': 'Poisson.none'\n",
    "}"
   ]
  },
  {
   "cell_type": "code",
   "execution_count": 7,
   "metadata": {
    "collapsed": false
   },
   "outputs": [
    {
     "name": "stdout",
     "output_type": "stream",
     "text": [
      "/home/dimitris/WTCHG/Projects/eQTLseq/results/geuvadis/raw/TF.common.HIGH.protein_coding.452.Normal.boxcox.pkl\n",
      "/home/dimitris/WTCHG/Projects/eQTLseq/results/geuvadis/raw/TF.common.HIGH.protein_coding.452.Normal.blom.pkl\n",
      "/home/dimitris/WTCHG/Projects/eQTLseq/results/geuvadis/raw/TF.common.HIGH.protein_coding.452.Normal.logit.pkl\n",
      "/home/dimitris/WTCHG/Projects/eQTLseq/results/geuvadis/raw/TF.common.HIGH.protein_coding.452.NBinomial.none.pkl\n",
      "/home/dimitris/WTCHG/Projects/eQTLseq/results/geuvadis/raw/TF.common.HIGH.protein_coding.452.Normal.arcsin.pkl\n",
      "/home/dimitris/WTCHG/Projects/eQTLseq/results/geuvadis/raw/TF.common.HIGH.protein_coding.452.Normal.log.pkl\n",
      "/home/dimitris/WTCHG/Projects/eQTLseq/results/geuvadis/raw/TF.common.HIGH.protein_coding.452.Poisson.none.pkl\n",
      "/home/dimitris/WTCHG/Projects/eQTLseq/results/geuvadis/raw/TF.common.HIGH.protein_coding.452.Normal.voom.pkl\n",
      "/home/dimitris/WTCHG/Projects/eQTLseq/results/geuvadis/raw/TF.common.HIGH.protein_coding.452.Binomial.none.pkl\n",
      "/home/dimitris/WTCHG/Projects/eQTLseq/results/geuvadis/raw/TF.common.HIGH.protein_coding.452.Normal.vst.pkl\n"
     ]
    }
   ],
   "source": [
    "## load results\n",
    "\n",
    "def load_results():\n",
    "    ##\n",
    "    res, hits = {}, {}\n",
    "    fin_dir = '/home/dimitris/WTCHG/Projects/eQTLseq/results/geuvadis/raw'\n",
    "    for key in mdls:\n",
    "        fin = '{}/TF.common.HIGH.{}.452.{}.pkl'.format(fin_dir, 'protein_coding', mdls[key])\n",
    "        print(fin)\n",
    "        with open(fin, 'rb') as fh:\n",
    "            res[key] = _pkl.load(fh)\n",
    "            beta = res[key]['beta']\n",
    "            thr = 0.25 #if key in ('bin', 'nbin', 'pois') else 1e-6\n",
    "            idxs = _nmp.abs(beta) > thr * _nmp.max(_nmp.abs(beta)) \n",
    "            beta[~idxs] = 0\n",
    "            hits[key] = idxs\n",
    "            \n",
    "    ##\n",
    "    return res, hits\n",
    "\n",
    "##\n",
    "res, hits = load_results()"
   ]
  },
  {
   "cell_type": "code",
   "execution_count": 8,
   "metadata": {
    "collapsed": false
   },
   "outputs": [
    {
     "data": {
      "image/png": "[encoded data removed]",
      "text/plain": [
       "<matplotlib.figure.Figure at 0x7f97767e4198>"
      ]
     },
     "metadata": {},
     "output_type": "display_data"
    }
   ],
   "source": [
    "## plot\n",
    "mdl = 'logit'\n",
    "_plt.figure(figsize = (15,10));\n",
    "_plt.subplot(4,1,1); _plt.plot(res[mdl]['state'][10:]); _plt.xlabel('iteration'); _plt.ylabel('state')\n",
    "_plt.subplot(4,1,2); _plt.vlines(range(res[mdl]['beta'].size), 0, res[mdl]['beta']); _plt.xlabel('markers x genes'); _plt.ylabel('effect size')\n",
    "_plt.axhline(linestyle='--', color='k');\n",
    "_plt.subplot(4,1,3); _plt.vlines(range(res[mdl]['beta_var'].size), 0, res[mdl]['beta_var']); _plt.xlabel('markers x genes'); _plt.ylabel('var')\n",
    "_plt.axhline(linestyle='--', color='k');"
   ]
  },
  {
   "cell_type": "code",
   "execution_count": 9,
   "metadata": {
    "collapsed": false
   },
   "outputs": [
    {
     "data": {
      "text/plain": [
       "(array([], dtype=int64), array([], dtype=int64))"
      ]
     },
     "execution_count": 9,
     "metadata": {},
     "output_type": "execute_result"
    }
   ],
   "source": [
    "## find interesection\n",
    "\n",
    "hits_common = (\n",
    "    hits['arcsin'] &\n",
    "    hits['logit'] & \n",
    "    hits['log'] &\n",
    "    hits['blom'] & \n",
    "    hits['bcox'] & \n",
    "    hits['voom'] & \n",
    "    hits['vst'] &\n",
    "    hits['pois'] &\n",
    "    hits['bin'] & \n",
    "    hits['nbin']    \n",
    ")\n",
    "\n",
    "hits_common.nonzero()"
   ]
  },
  {
   "cell_type": "code",
   "execution_count": 10,
   "metadata": {
    "collapsed": false
   },
   "outputs": [
    {
     "name": "stdout",
     "output_type": "stream",
     "text": [
      "/home/dimitris/WTCHG/Projects/eQTLseq/results/geuvadis/hits/TF.common.HIGH.protein_coding.452.Normal.boxcox.hits.txt\n",
      "/home/dimitris/WTCHG/Projects/eQTLseq/results/geuvadis/hits/TF.common.HIGH.protein_coding.452.Normal.blom.hits.txt\n",
      "/home/dimitris/WTCHG/Projects/eQTLseq/results/geuvadis/hits/TF.common.HIGH.protein_coding.452.Normal.logit.hits.txt\n",
      "/home/dimitris/WTCHG/Projects/eQTLseq/results/geuvadis/hits/TF.common.HIGH.protein_coding.452.NBinomial.none.hits.txt\n",
      "/home/dimitris/WTCHG/Projects/eQTLseq/results/geuvadis/hits/TF.common.HIGH.protein_coding.452.Normal.arcsin.hits.txt\n",
      "/home/dimitris/WTCHG/Projects/eQTLseq/results/geuvadis/hits/TF.common.HIGH.protein_coding.452.Normal.log.hits.txt\n",
      "/home/dimitris/WTCHG/Projects/eQTLseq/results/geuvadis/hits/TF.common.HIGH.protein_coding.452.Poisson.none.hits.txt\n",
      "/home/dimitris/WTCHG/Projects/eQTLseq/results/geuvadis/hits/TF.common.HIGH.protein_coding.452.Normal.voom.hits.txt\n",
      "/home/dimitris/WTCHG/Projects/eQTLseq/results/geuvadis/hits/TF.common.HIGH.protein_coding.452.Binomial.none.hits.txt\n",
      "/home/dimitris/WTCHG/Projects/eQTLseq/results/geuvadis/hits/TF.common.HIGH.protein_coding.452.Normal.vst.hits.txt\n"
     ]
    }
   ],
   "source": [
    "## save data\n",
    "\n",
    "def save_data():\n",
    "    ##\n",
    "    fout_dir = '/home/dimitris/WTCHG/Projects/eQTLseq/results/geuvadis/hits'\n",
    "    for key in mdls:\n",
    "        fout = '{}/TF.common.HIGH.{}.452.{}.hits.txt'.format(fout_dir, 'protein_coding', mdls[key])\n",
    "        print(fout)\n",
    "        _nmp.savetxt(fout, hits[key], fmt='%d')\n",
    "\n",
    "##\n",
    "save_data()"
   ]
  },
  {
   "cell_type": "code",
   "execution_count": null,
   "metadata": {
    "collapsed": false
   },
   "outputs": [],
   "source": [
    "# load data\n",
    "def load_data():\n",
    "    data = {\n",
    "        'G': _pnd.read_table('/home/dimitris/WTCHG/Projects/eQTLseq/data/geuvadis/genotypes.TF.common.HIGH.no_missing.txt', index_col=0, header=None),\n",
    "        'Z': _pnd.read_table('/home/dimitris/WTCHG/Projects/eQTLseq/data/geuvadis/counts_miRNA.txt', index_col=0)\n",
    "    }\n",
    "\n",
    "    samples = data['G'].index & data['Z'].columns\n",
    "\n",
    "    data['Z'] = data['Z'][samples].values\n",
    "    data['G'] = data['G'].loc[samples].values\n",
    "\n",
    "    ##\n",
    "    return data\n",
    "\n",
    "##\n",
    "data = load_data()"
   ]
  },
  {
   "cell_type": "code",
   "execution_count": null,
   "metadata": {
    "collapsed": false
   },
   "outputs": [],
   "source": [
    "## add info\n",
    "\n",
    "def modify_data():\n",
    "    Z, G = data['Z'], data['G']\n",
    "\n",
    "    idxs_genes = Z.mean(1) > 10       # keep only expressed tags\n",
    "    idxs_markers = _nmp.std(G, 0) > 0   # keep only non-monomorphic loci\n",
    "    \n",
    "    data_mod = {\n",
    "        'Z': Z,\n",
    "        'G': G,\n",
    "        'idxs_genes': idxs_genes,\n",
    "        'idxs_markers': idxs_markers\n",
    "    }\n",
    "    \n",
    "    with open('/home/dimitris/WTCHG/Projects/eQTLseq/data/geuvadis/TF.common.HIGH.tfs.452.pkl', 'wb') as fh:\n",
    "        _pkl.dump(data_mod, fh)\n",
    "\n",
    "##    \n",
    "modify_data()    "
   ]
  },
  {
   "cell_type": "code",
   "execution_count": null,
   "metadata": {
    "collapsed": false
   },
   "outputs": [],
   "source": [
    "res['log']['beta_var']"
   ]
  },
  {
   "cell_type": "code",
   "execution_count": null,
   "metadata": {
    "collapsed": true
   },
   "outputs": [],
   "source": []
  }
 ],
 "metadata": {
  "kernelspec": {
   "display_name": "Python 3",
   "language": "python",
   "name": "python3"
  },
  "language_info": {
   "codemirror_mode": {
    "name": "ipython",
    "version": 3
   },
   "file_extension": ".py",
   "mimetype": "text/x-python",
   "name": "python",
   "nbconvert_exporter": "python",
   "pygments_lexer": "ipython3",
   "version": "3.5.2"
  }
 },
 "nbformat": 4,
 "nbformat_minor": 1
}
