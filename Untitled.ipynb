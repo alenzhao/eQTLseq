{
 "cells": [
  {
   "cell_type": "code",
   "execution_count": 1,
   "metadata": {
    "collapsed": true
   },
   "outputs": [],
   "source": [
    "import pickle as _pkl\n",
    "import numpy as _nmp\n",
    "import matplotlib.pyplot as _plt\n",
    "\n",
    "%matplotlib inline"
   ]
  },
  {
   "cell_type": "code",
   "execution_count": 3,
   "metadata": {
    "collapsed": false
   },
   "outputs": [],
   "source": [
    "## load data\n",
    "\n",
    "def load_data(): \n",
    "    files = {\n",
    "        'log': 'Normal.log',\n",
    "        'bcox': 'Normal.boxcox',\n",
    "        'blom': 'Normal.blom',\n",
    "        'voom': 'Normal.voom',\n",
    "        'vst': 'Normal.vst',\n",
    "        'bin': 'Binomial.none',\n",
    "        'nbin': 'NBinomial.none',\n",
    "        'pois': 'Poisson.none'\n",
    "    }\n",
    "    \n",
    "    ##\n",
    "    res, hits = {}, {}\n",
    "    for key in files:\n",
    "        with open('/Users/dimitris/WTCHG/Cluster/Projects/eQTLseq/results/geuvadis/TF.common.HIGH.miRNAs.452.{}.pkl'.format(files[key]), 'rb') as fh:\n",
    "            res[key] = _pkl.load(fh)\n",
    "            res[key]['beta'][_nmp.abs(res[key]['beta']) < 1e-6] = 0\n",
    "            hits[key] = _nmp.sign(res[key]['beta'])\n",
    "            \n",
    "    ##\n",
    "    return res, hits\n",
    "\n",
    "##\n",
    "res, hits = load_data()"
   ]
  },
  {
   "cell_type": "code",
   "execution_count": 7,
   "metadata": {
    "collapsed": false
   },
   "outputs": [
    {
     "data": {
      "text/plain": [
       "4"
      ]
     },
     "execution_count": 7,
     "metadata": {},
     "output_type": "execute_result"
    }
   ],
   "source": [
    "## find interesection\n",
    "\n",
    "hits_common = (\n",
    "    (_nmp.abs(hits['log']) == 1 ) & \n",
    "    (_nmp.abs(hits['bcox']) == 1 ) &\n",
    "    (_nmp.abs(hits['blom']) == 1 ) & \n",
    "    (_nmp.abs(hits['voom']) == 1 ) &\n",
    "    (_nmp.abs(hits['vst']) == 1 ) &\n",
    "    (_nmp.abs(hits['pois']) == 1 ) &\n",
    "    (_nmp.abs(hits['bin']) == 1 ) &\n",
    "    (_nmp.abs(hits['nbin']) == 1 )\n",
    ")\n",
    "\n",
    "hits_common.sum()"
   ]
  },
  {
   "cell_type": "code",
   "execution_count": null,
   "metadata": {
    "collapsed": false
   },
   "outputs": [],
   "source": [
    "_plt.imshow(hits['bcox'][::20], cmap=_plt.cm.Greys_r);\n",
    "_nmp.abs(hits['bcox']).sum()"
   ]
  },
  {
   "cell_type": "code",
   "execution_count": 2,
   "metadata": {
    "collapsed": false
   },
   "outputs": [
    {
     "name": "stdout",
     "output_type": "stream",
     "text": [
      "/home/dimitris/WTCHG/Projects/eQTLseq\n"
     ]
    }
   ],
   "source": [
    "cd ~/WTCHG/Projects/eQTLseq/"
   ]
  },
  {
   "cell_type": "code",
   "execution_count": 27,
   "metadata": {
    "collapsed": false
   },
   "outputs": [
    {
     "name": "stdout",
     "output_type": "stream",
     "text": [
      "Variable      Type        Data/Info\n",
      "-----------------------------------\n",
      "hits          dict        n=8\n",
      "hits_common   ndarray     2226x21: 46746 elems, type `bool`, 46746 bytes\n",
      "load_data     function    <function load_data at 0x7f82c4eb5d08>\n",
      "res           dict        n=8\n"
     ]
    }
   ],
   "source": [
    "whos"
   ]
  },
  {
   "cell_type": "code",
   "execution_count": 13,
   "metadata": {
    "collapsed": false
   },
   "outputs": [],
   "source": [
    "_nmp.savetxt('/Users/dimitris/WTCHG/Cluster/Projects/eQTLseq/results/geuvadis/hits_common.txt', hits_common, fmt = '%d')"
   ]
  },
  {
   "cell_type": "code",
   "execution_count": 18,
   "metadata": {
    "collapsed": false
   },
   "outputs": [
    {
     "data": {
      "text/plain": [
       "array([[False, False, False, ..., False, False, False],\n",
       "       [False, False, False, ..., False, False, False],\n",
       "       [False, False, False, ..., False, False, False],\n",
       "       ..., \n",
       "       [False, False, False, ..., False, False, False],\n",
       "       [False, False, False, ..., False, False, False],\n",
       "       [False, False, False, ..., False, False, False]], dtype=bool)"
      ]
     },
     "execution_count": 18,
     "metadata": {},
     "output_type": "execute_result"
    }
   ],
   "source": [
    "_nmp.loadtxt('/Users/dimitris/WTCHG/Cluster/Projects/eQTLseq/results/geuvadis/hits_common.txt', dtype='bool')"
   ]
  },
  {
   "cell_type": "code",
   "execution_count": null,
   "metadata": {
    "collapsed": true
   },
   "outputs": [],
   "source": []
  }
 ],
 "metadata": {
  "kernelspec": {
   "display_name": "Python 3",
   "language": "python",
   "name": "python3"
  },
  "language_info": {
   "codemirror_mode": {
    "name": "ipython",
    "version": 3
   },
   "file_extension": ".py",
   "mimetype": "text/x-python",
   "name": "python",
   "nbconvert_exporter": "python",
   "pygments_lexer": "ipython3",
   "version": "3.5.2"
  }
 },
 "nbformat": 4,
 "nbformat_minor": 1
}
